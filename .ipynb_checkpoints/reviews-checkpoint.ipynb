{
 "cells": [
  {
   "cell_type": "markdown",
   "metadata": {},
   "source": [
    "# Tool for scraping reviews from Rotten Tomatoes"
   ]
  },
  {
   "cell_type": "markdown",
   "metadata": {},
   "source": [
    "## Gathering reviews"
   ]
  },
  {
   "cell_type": "code",
   "execution_count": null,
   "metadata": {},
   "outputs": [],
   "source": [
    "from bs4 import BeautifulSoup\n",
    "import requests\n",
    "import pickle\n",
    "from time import sleep\n",
    "from random import randint\n",
    "from time import time\n",
    "\n",
    "user_agent = {'User-agent': \"Chrome\"}\n",
    "pages = [str(i) for i in range(1,617)]\n",
    "review = []\n",
    "review_text = []\n",
    "\n",
    "start_time = time()\n",
    "num_requests = 0\n",
    "\n",
    "for page in pages:\n",
    "   r = requests.get(\"https://www.rottentomatoes.com/m/captain_marvel/reviews/?page=\" + str(pages) + \"&type=user&sort=\", headers= user_agent)\n",
    "   sleep(randint(10,25))\n",
    "   \n",
    "   num_requests += 1\n",
    "   elapsed_time = time() - start_time\n",
    "   print('Request:{}; Frequency: {} requests/s'.format(num_requests, num_requests/elapsed_time))\n",
    "   clear_output(wait = True)\n",
    "   \n",
    "   soup = BeautifulSoup(r.text, 'html5lib')\n",
    "   review += soup.find_all('div',{\"class\": \"user_review\"})\n",
    "for i in review:\n",
    "   review_text.append(i.text)\n",
    "with open('reviews.pkl', 'wb') as f:\n",
    "   pickle.dump(review_text, f)"
   ]
  },
  {
   "cell_type": "markdown",
   "metadata": {},
   "source": [
    "## Loading pickel"
   ]
  },
  {
   "cell_type": "code",
   "execution_count": 3,
   "metadata": {},
   "outputs": [],
   "source": [
    "with open('reviews.pkl', 'rb') as f:\n",
    "    reviews = pickle.load(f)"
   ]
  },
  {
   "cell_type": "code",
   "execution_count": null,
   "metadata": {},
   "outputs": [],
   "source": []
  }
 ],
 "metadata": {
  "kernelspec": {
   "display_name": "Python 3 (Spyder)",
   "language": "python3",
   "name": "python3"
  },
  "language_info": {
   "codemirror_mode": {
    "name": "ipython",
    "version": 3
   },
   "file_extension": ".py",
   "mimetype": "text/x-python",
   "name": "python",
   "nbconvert_exporter": "python",
   "pygments_lexer": "ipython3",
   "version": "3.7.1"
  }
 },
 "nbformat": 4,
 "nbformat_minor": 2
}
